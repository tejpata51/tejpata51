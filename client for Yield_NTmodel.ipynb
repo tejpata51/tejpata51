{
 "cells": [
  {
   "cell_type": "code",
   "execution_count": 1,
   "id": "ad2dc2a7",
   "metadata": {},
   "outputs": [
    {
     "name": "stdout",
     "output_type": "stream",
     "text": [
      "<class 'pandas.core.frame.DataFrame'>\n",
      "RangeIndex: 3295 entries, 0 to 3294\n",
      "Data columns (total 16 columns):\n",
      " #   Column                Non-Null Count  Dtype  \n",
      "---  ------                --------------  -----  \n",
      " 0   Yield_NT              3295 non-null   float64\n",
      " 1   Yield_change          3295 non-null   float64\n",
      " 2   Latitude              3295 non-null   float64\n",
      " 3   Longitude             3295 non-null   float64\n",
      " 4   Crop                  3295 non-null   object \n",
      " 5   Years_NT              3295 non-null   int64  \n",
      " 6   Crop_rotation_NT      3295 non-null   int64  \n",
      " 7   Soil_cover_NT         3295 non-null   float64\n",
      " 8   Weed_pest_control_NT  3295 non-null   float64\n",
      " 9   P                     3295 non-null   float64\n",
      " 10  E                     3295 non-null   float64\n",
      " 11  PB                    3295 non-null   float64\n",
      " 12  Tave                  3295 non-null   float64\n",
      " 13  Tmax                  3295 non-null   float64\n",
      " 14  Tmin                  3295 non-null   float64\n",
      " 15  ST                    3295 non-null   object \n",
      "dtypes: float64(12), int64(2), object(2)\n",
      "memory usage: 412.0+ KB\n"
     ]
    }
   ],
   "source": [
    "import pandas as pd\n",
    "import numpy as np\n",
    "from matplotlib import pyplot as plt\n",
    "df = pd.read_csv('./preprocessed_Yield_NT.csv', low_memory=False) \n",
    "df.info()"
   ]
  },
  {
   "cell_type": "code",
   "execution_count": 2,
   "id": "227cf3e4",
   "metadata": {},
   "outputs": [
    {
     "name": "stdout",
     "output_type": "stream",
     "text": [
      "[3, 14]\n",
      "<class 'pandas.core.frame.DataFrame'>\n",
      "RangeIndex: 3295 entries, 0 to 3294\n",
      "Data columns (total 16 columns):\n",
      " #   Column                Non-Null Count  Dtype  \n",
      "---  ------                --------------  -----  \n",
      " 0   Yield_NT              3295 non-null   float64\n",
      " 1   Yield_change          3295 non-null   float64\n",
      " 2   Latitude              3295 non-null   float64\n",
      " 3   Longitude             3295 non-null   float64\n",
      " 4   Crop                  3295 non-null   object \n",
      " 5   Years_NT              3295 non-null   int64  \n",
      " 6   Crop_rotation_NT      3295 non-null   int64  \n",
      " 7   Soil_cover_NT         3295 non-null   float64\n",
      " 8   Weed_pest_control_NT  3295 non-null   float64\n",
      " 9   P                     3295 non-null   float64\n",
      " 10  E                     3295 non-null   float64\n",
      " 11  PB                    3295 non-null   float64\n",
      " 12  Tave                  3295 non-null   float64\n",
      " 13  Tmax                  3295 non-null   float64\n",
      " 14  Tmin                  3295 non-null   float64\n",
      " 15  ST                    3295 non-null   object \n",
      "dtypes: float64(12), int64(2), object(2)\n",
      "memory usage: 412.0+ KB\n",
      "feat_col_len15\n",
      "Crop\n",
      "['barley.spring' 'barley.winter' 'cotton' 'maize' 'rice' 'sorghum'\n",
      " 'soybean' 'sunflower' 'wheat.spring' 'wheat.winter']\n",
      "ST\n",
      "['Clay' 'Clay loam' 'Loam' 'Sandy clay' 'Sandy clay loam' 'Sandy loam'\n",
      " 'Silt loam']\n",
      "after encoding \n",
      "\n",
      "<class 'pandas.core.frame.DataFrame'>\n",
      "RangeIndex: 3295 entries, 0 to 3294\n",
      "Data columns (total 15 columns):\n",
      " #   Column                Non-Null Count  Dtype  \n",
      "---  ------                --------------  -----  \n",
      " 0   Yield_change          3295 non-null   float64\n",
      " 1   Latitude              3295 non-null   float64\n",
      " 2   Longitude             3295 non-null   float64\n",
      " 3   Crop                  3295 non-null   int32  \n",
      " 4   Years_NT              3295 non-null   int64  \n",
      " 5   Crop_rotation_NT      3295 non-null   int64  \n",
      " 6   Soil_cover_NT         3295 non-null   float64\n",
      " 7   Weed_pest_control_NT  3295 non-null   float64\n",
      " 8   P                     3295 non-null   float64\n",
      " 9   E                     3295 non-null   float64\n",
      " 10  PB                    3295 non-null   float64\n",
      " 11  Tave                  3295 non-null   float64\n",
      " 12  Tmax                  3295 non-null   float64\n",
      " 13  Tmin                  3295 non-null   float64\n",
      " 14  ST                    3295 non-null   int32  \n",
      "dtypes: float64(11), int32(2), int64(2)\n",
      "memory usage: 360.5 KB\n"
     ]
    },
    {
     "data": {
      "text/plain": [
       "{3: {0: 'barley.spring',\n",
       "  1: 'barley.winter',\n",
       "  2: 'cotton',\n",
       "  3: 'maize',\n",
       "  4: 'rice',\n",
       "  5: 'sorghum',\n",
       "  6: 'soybean',\n",
       "  7: 'sunflower',\n",
       "  8: 'wheat.spring',\n",
       "  9: 'wheat.winter'},\n",
       " 14: {0: 'Clay',\n",
       "  1: 'Clay loam',\n",
       "  2: 'Loam',\n",
       "  3: 'Sandy clay',\n",
       "  4: 'Sandy clay loam',\n",
       "  5: 'Sandy loam',\n",
       "  6: 'Silt loam'}}"
      ]
     },
     "execution_count": 2,
     "metadata": {},
     "output_type": "execute_result"
    }
   ],
   "source": [
    "feat_cols = list(df.columns)\n",
    "label_col = \"Yield_NT\"\n",
    "feat_cols.remove(label_col)\n",
    "X = df.drop([label_col], axis=1)\n",
    "y = df[label_col]\n",
    "\n",
    "feat_cols = list(X.columns)\n",
    "from sklearn.preprocessing import LabelEncoder\n",
    "categorical_index=[]\n",
    "feat_cols = list(X.columns)\n",
    "categorical_names = {}\n",
    "\n",
    "categorical_features = [\"Crop\",'ST']\n",
    "categorical_index = [feat_cols.index(i) for i in categorical_features]\n",
    "print(categorical_index)\n",
    "# for i in categorical_features:\n",
    "#     z=feat_cols.index(i)\n",
    "#     print(z)\n",
    "#     categorical_index.append(z)\n",
    "df.info()\n",
    "print(\"feat_col_len\"+str(len(feat_cols)))\n",
    "def Label_encoding(X, name,index):\n",
    "    le = LabelEncoder()\n",
    "    label = le.fit_transform(X[name])\n",
    "   # df.drop(name, axis=1, inplace=True)\n",
    "    X[name] = label\n",
    "    le_value_mapping = dict(zip(le.transform(le.classes_), le.classes_))\n",
    "    categorical_names[index] = le_value_mapping\n",
    "    #categorical_names[index] = le.classes_\n",
    "    print(name)\n",
    "    print(le.classes_)\n",
    "\n",
    "for i in categorical_features:\n",
    "    z=feat_cols.index(i)\n",
    "    Label_encoding(X,i,z)\n",
    "print(\"after encoding \\n\")\n",
    "X.info()\n",
    "\n",
    "\n",
    "categorical_names\n",
    "# feat_cols = list(df.columns)\n",
    "# feat_cols.remove(label_col)\n"
   ]
  },
  {
   "cell_type": "code",
   "execution_count": 3,
   "id": "260079de",
   "metadata": {},
   "outputs": [],
   "source": [
    "from sklearn.model_selection import train_test_split\n",
    "\n",
    "X_train, X_test, y_train, y_test = train_test_split(X, y, test_size=0.2, random_state=1)\n",
    "\n",
    "#del X\n",
    "#del y"
   ]
  },
  {
   "cell_type": "code",
   "execution_count": 4,
   "id": "ff9a5456",
   "metadata": {},
   "outputs": [
    {
     "data": {
      "text/plain": [
       "array([ 1.602000e-01,  1.952000e+01, -9.883000e+01,  9.000000e+00,\n",
       "        6.000000e+00,  1.000000e+00,  0.000000e+00,  1.000000e+00,\n",
       "        4.012000e+02,  6.890000e+02, -2.878000e+02,  1.398571e+01,\n",
       "        2.452044e+01,  2.949670e+00,  2.000000e+00])"
      ]
     },
     "execution_count": 4,
     "metadata": {},
     "output_type": "execute_result"
    }
   ],
   "source": [
    "X_test.values[1]"
   ]
  },
  {
   "cell_type": "code",
   "execution_count": 5,
   "id": "01769005",
   "metadata": {},
   "outputs": [
    {
     "name": "stdout",
     "output_type": "stream",
     "text": [
      "[3429.11196001]\n"
     ]
    }
   ],
   "source": [
    "from mlsocket import MLSocket\n",
    "from keras.models import Sequential\n",
    "from keras.layers import Dense\n",
    "from sklearn import svm\n",
    "import numpy as np\n",
    "import socket\n",
    "HOST = socket.gethostname()\n",
    "PORT = 65432\n",
    "\n",
    "# Make an ndarray\n",
    "data = X_test.values[1]\n",
    "\n",
    "\n",
    "\n",
    "# Send data\n",
    "with MLSocket() as s:\n",
    "    s.connect((HOST, PORT)) # Connect to the port and host\n",
    "    s.send(data) # After sending the data, it will wait until it receives the reponse from the server\n",
    "    data1 = s.recv(1024)\n",
    "    print(data1)"
   ]
  },
  {
   "cell_type": "code",
   "execution_count": 6,
   "id": "b97e72d4",
   "metadata": {},
   "outputs": [
    {
     "data": {
      "text/plain": [
       "2.33"
      ]
     },
     "execution_count": 6,
     "metadata": {},
     "output_type": "execute_result"
    }
   ],
   "source": [
    "float_array = np.array([2.33, 4.7, 5.1, 6.2356, 7.88, 8.5])\n",
    "float_array[0]"
   ]
  },
  {
   "cell_type": "code",
   "execution_count": null,
   "id": "fb11212d",
   "metadata": {},
   "outputs": [],
   "source": []
  },
  {
   "cell_type": "code",
   "execution_count": null,
   "id": "aa9585f7",
   "metadata": {},
   "outputs": [],
   "source": []
  },
  {
   "cell_type": "code",
   "execution_count": null,
   "id": "a5620783",
   "metadata": {},
   "outputs": [],
   "source": []
  }
 ],
 "metadata": {
  "kernelspec": {
   "display_name": "Python 3 (ipykernel)",
   "language": "python",
   "name": "python3"
  },
  "language_info": {
   "codemirror_mode": {
    "name": "ipython",
    "version": 3
   },
   "file_extension": ".py",
   "mimetype": "text/x-python",
   "name": "python",
   "nbconvert_exporter": "python",
   "pygments_lexer": "ipython3",
   "version": "3.9.13"
  }
 },
 "nbformat": 4,
 "nbformat_minor": 5
}
