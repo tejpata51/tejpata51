{
 "cells": [
  {
   "cell_type": "code",
   "execution_count": 1,
   "id": "6820ce24",
   "metadata": {},
   "outputs": [],
   "source": [
    "import pandas as pd\n",
    "import numpy as np\n",
    "from matplotlib import pyplot as plt\n",
    "import seaborn as sns\n",
    "import sklearn\n",
    "import sklearn.datasets\n",
    "import sklearn.ensemble\n",
    "import lime\n",
    "import lime.lime_tabular\n",
    "from __future__ import print_function"
   ]
  },
  {
   "cell_type": "code",
   "execution_count": 2,
   "id": "3f8dcd31",
   "metadata": {},
   "outputs": [],
   "source": [
    "# Part 1: Develop a regression model to predict Yield_CT considering the columns except (Yield_NT, NT_effect). Perform some cleaning process if needed.   (30 points)\n",
    "\n",
    "# Consider 5 instances and apply LIME to explain the model's decision \n",
    "\n",
    " \n",
    "\n",
    "# Part 2: Develop a regression model to predict Yield_NT considering the columns except (Yield_CT, NT_effect). Perform some cleaning process if needed.   (30 points)\n",
    "\n",
    "# Consider 5 instances and apply LIME to explain the model's decision "
   ]
  },
  {
   "cell_type": "code",
   "execution_count": 3,
   "id": "76604e80",
   "metadata": {},
   "outputs": [],
   "source": [
    "#df.to_csv('preprocessed_Yield_NT.csv', encoding='utf-8', index=False)\n",
    "df = pd.read_csv('./preprocessed_Yield_NT.csv', low_memory=False) \n",
    "#df.info()"
   ]
  },
  {
   "cell_type": "code",
   "execution_count": 4,
   "id": "7cae9874",
   "metadata": {},
   "outputs": [
    {
     "name": "stdout",
     "output_type": "stream",
     "text": [
      "[3, 14]\n",
      "<class 'pandas.core.frame.DataFrame'>\n",
      "RangeIndex: 3295 entries, 0 to 3294\n",
      "Data columns (total 16 columns):\n",
      " #   Column                Non-Null Count  Dtype  \n",
      "---  ------                --------------  -----  \n",
      " 0   Yield_NT              3295 non-null   float64\n",
      " 1   Yield_change          3295 non-null   float64\n",
      " 2   Latitude              3295 non-null   float64\n",
      " 3   Longitude             3295 non-null   float64\n",
      " 4   Crop                  3295 non-null   object \n",
      " 5   Years_NT              3295 non-null   int64  \n",
      " 6   Crop_rotation_NT      3295 non-null   int64  \n",
      " 7   Soil_cover_NT         3295 non-null   float64\n",
      " 8   Weed_pest_control_NT  3295 non-null   float64\n",
      " 9   P                     3295 non-null   float64\n",
      " 10  E                     3295 non-null   float64\n",
      " 11  PB                    3295 non-null   float64\n",
      " 12  Tave                  3295 non-null   float64\n",
      " 13  Tmax                  3295 non-null   float64\n",
      " 14  Tmin                  3295 non-null   float64\n",
      " 15  ST                    3295 non-null   object \n",
      "dtypes: float64(12), int64(2), object(2)\n",
      "memory usage: 412.0+ KB\n",
      "feat_col_len15\n",
      "Crop\n",
      "['barley.spring' 'barley.winter' 'cotton' 'maize' 'rice' 'sorghum'\n",
      " 'soybean' 'sunflower' 'wheat.spring' 'wheat.winter']\n",
      "ST\n",
      "['Clay' 'Clay loam' 'Loam' 'Sandy clay' 'Sandy clay loam' 'Sandy loam'\n",
      " 'Silt loam']\n",
      "after encoding \n",
      "\n",
      "<class 'pandas.core.frame.DataFrame'>\n",
      "RangeIndex: 3295 entries, 0 to 3294\n",
      "Data columns (total 15 columns):\n",
      " #   Column                Non-Null Count  Dtype  \n",
      "---  ------                --------------  -----  \n",
      " 0   Yield_change          3295 non-null   float64\n",
      " 1   Latitude              3295 non-null   float64\n",
      " 2   Longitude             3295 non-null   float64\n",
      " 3   Crop                  3295 non-null   int32  \n",
      " 4   Years_NT              3295 non-null   int64  \n",
      " 5   Crop_rotation_NT      3295 non-null   int64  \n",
      " 6   Soil_cover_NT         3295 non-null   float64\n",
      " 7   Weed_pest_control_NT  3295 non-null   float64\n",
      " 8   P                     3295 non-null   float64\n",
      " 9   E                     3295 non-null   float64\n",
      " 10  PB                    3295 non-null   float64\n",
      " 11  Tave                  3295 non-null   float64\n",
      " 12  Tmax                  3295 non-null   float64\n",
      " 13  Tmin                  3295 non-null   float64\n",
      " 14  ST                    3295 non-null   int32  \n",
      "dtypes: float64(11), int32(2), int64(2)\n",
      "memory usage: 360.5 KB\n"
     ]
    },
    {
     "data": {
      "text/plain": [
       "{3: {0: 'barley.spring',\n",
       "  1: 'barley.winter',\n",
       "  2: 'cotton',\n",
       "  3: 'maize',\n",
       "  4: 'rice',\n",
       "  5: 'sorghum',\n",
       "  6: 'soybean',\n",
       "  7: 'sunflower',\n",
       "  8: 'wheat.spring',\n",
       "  9: 'wheat.winter'},\n",
       " 14: {0: 'Clay',\n",
       "  1: 'Clay loam',\n",
       "  2: 'Loam',\n",
       "  3: 'Sandy clay',\n",
       "  4: 'Sandy clay loam',\n",
       "  5: 'Sandy loam',\n",
       "  6: 'Silt loam'}}"
      ]
     },
     "execution_count": 4,
     "metadata": {},
     "output_type": "execute_result"
    }
   ],
   "source": [
    "feat_cols = list(df.columns)\n",
    "label_col = \"Yield_NT\"\n",
    "feat_cols.remove(label_col)\n",
    "X = df.drop([label_col], axis=1)\n",
    "y = df[label_col]\n",
    "\n",
    "feat_cols = list(X.columns)\n",
    "from sklearn.preprocessing import LabelEncoder\n",
    "categorical_index=[]\n",
    "feat_cols = list(X.columns)\n",
    "categorical_names = {}\n",
    "\n",
    "categorical_features = [\"Crop\",'ST']\n",
    "categorical_index = [feat_cols.index(i) for i in categorical_features]\n",
    "print(categorical_index)\n",
    "# for i in categorical_features:\n",
    "#     z=feat_cols.index(i)\n",
    "#     print(z)\n",
    "#     categorical_index.append(z)\n",
    "df.info()\n",
    "print(\"feat_col_len\"+str(len(feat_cols)))\n",
    "def Label_encoding(X, name,index):\n",
    "    le = LabelEncoder()\n",
    "    label = le.fit_transform(X[name])\n",
    "   # df.drop(name, axis=1, inplace=True)\n",
    "    X[name] = label\n",
    "    le_value_mapping = dict(zip(le.transform(le.classes_), le.classes_))\n",
    "    categorical_names[index] = le_value_mapping\n",
    "    #categorical_names[index] = le.classes_\n",
    "    print(name)\n",
    "    print(le.classes_)\n",
    "\n",
    "for i in categorical_features:\n",
    "    z=feat_cols.index(i)\n",
    "    Label_encoding(X,i,z)\n",
    "print(\"after encoding \\n\")\n",
    "X.info()\n",
    "\n",
    "\n",
    "categorical_names\n",
    "# feat_cols = list(df.columns)\n",
    "# feat_cols.remove(label_col)\n"
   ]
  },
  {
   "cell_type": "code",
   "execution_count": 5,
   "id": "a852b764",
   "metadata": {},
   "outputs": [],
   "source": [
    "from sklearn.model_selection import train_test_split\n",
    "\n",
    "X_train, X_test, y_train, y_test = train_test_split(X, y, test_size=0.2, random_state=1)\n",
    "\n",
    "#del X\n",
    "#del y"
   ]
  },
  {
   "cell_type": "code",
   "execution_count": 6,
   "id": "5b81e0d6",
   "metadata": {},
   "outputs": [
    {
     "data": {
      "text/html": [
       "<style>#sk-container-id-1 {color: black;background-color: white;}#sk-container-id-1 pre{padding: 0;}#sk-container-id-1 div.sk-toggleable {background-color: white;}#sk-container-id-1 label.sk-toggleable__label {cursor: pointer;display: block;width: 100%;margin-bottom: 0;padding: 0.3em;box-sizing: border-box;text-align: center;}#sk-container-id-1 label.sk-toggleable__label-arrow:before {content: \"▸\";float: left;margin-right: 0.25em;color: #696969;}#sk-container-id-1 label.sk-toggleable__label-arrow:hover:before {color: black;}#sk-container-id-1 div.sk-estimator:hover label.sk-toggleable__label-arrow:before {color: black;}#sk-container-id-1 div.sk-toggleable__content {max-height: 0;max-width: 0;overflow: hidden;text-align: left;background-color: #f0f8ff;}#sk-container-id-1 div.sk-toggleable__content pre {margin: 0.2em;color: black;border-radius: 0.25em;background-color: #f0f8ff;}#sk-container-id-1 input.sk-toggleable__control:checked~div.sk-toggleable__content {max-height: 200px;max-width: 100%;overflow: auto;}#sk-container-id-1 input.sk-toggleable__control:checked~label.sk-toggleable__label-arrow:before {content: \"▾\";}#sk-container-id-1 div.sk-estimator input.sk-toggleable__control:checked~label.sk-toggleable__label {background-color: #d4ebff;}#sk-container-id-1 div.sk-label input.sk-toggleable__control:checked~label.sk-toggleable__label {background-color: #d4ebff;}#sk-container-id-1 input.sk-hidden--visually {border: 0;clip: rect(1px 1px 1px 1px);clip: rect(1px, 1px, 1px, 1px);height: 1px;margin: -1px;overflow: hidden;padding: 0;position: absolute;width: 1px;}#sk-container-id-1 div.sk-estimator {font-family: monospace;background-color: #f0f8ff;border: 1px dotted black;border-radius: 0.25em;box-sizing: border-box;margin-bottom: 0.5em;}#sk-container-id-1 div.sk-estimator:hover {background-color: #d4ebff;}#sk-container-id-1 div.sk-parallel-item::after {content: \"\";width: 100%;border-bottom: 1px solid gray;flex-grow: 1;}#sk-container-id-1 div.sk-label:hover label.sk-toggleable__label {background-color: #d4ebff;}#sk-container-id-1 div.sk-serial::before {content: \"\";position: absolute;border-left: 1px solid gray;box-sizing: border-box;top: 0;bottom: 0;left: 50%;z-index: 0;}#sk-container-id-1 div.sk-serial {display: flex;flex-direction: column;align-items: center;background-color: white;padding-right: 0.2em;padding-left: 0.2em;position: relative;}#sk-container-id-1 div.sk-item {position: relative;z-index: 1;}#sk-container-id-1 div.sk-parallel {display: flex;align-items: stretch;justify-content: center;background-color: white;position: relative;}#sk-container-id-1 div.sk-item::before, #sk-container-id-1 div.sk-parallel-item::before {content: \"\";position: absolute;border-left: 1px solid gray;box-sizing: border-box;top: 0;bottom: 0;left: 50%;z-index: -1;}#sk-container-id-1 div.sk-parallel-item {display: flex;flex-direction: column;z-index: 1;position: relative;background-color: white;}#sk-container-id-1 div.sk-parallel-item:first-child::after {align-self: flex-end;width: 50%;}#sk-container-id-1 div.sk-parallel-item:last-child::after {align-self: flex-start;width: 50%;}#sk-container-id-1 div.sk-parallel-item:only-child::after {width: 0;}#sk-container-id-1 div.sk-dashed-wrapped {border: 1px dashed gray;margin: 0 0.4em 0.5em 0.4em;box-sizing: border-box;padding-bottom: 0.4em;background-color: white;}#sk-container-id-1 div.sk-label label {font-family: monospace;font-weight: bold;display: inline-block;line-height: 1.2em;}#sk-container-id-1 div.sk-label-container {text-align: center;}#sk-container-id-1 div.sk-container {/* jupyter's `normalize.less` sets `[hidden] { display: none; }` but bootstrap.min.css set `[hidden] { display: none !important; }` so we also need the `!important` here to be able to override the default hidden behavior on the sphinx rendered scikit-learn.org. See: https://github.com/scikit-learn/scikit-learn/issues/21755 */display: inline-block !important;position: relative;}#sk-container-id-1 div.sk-text-repr-fallback {display: none;}</style><div id=\"sk-container-id-1\" class=\"sk-top-container\"><div class=\"sk-text-repr-fallback\"><pre>RandomForestRegressor(max_depth=6, n_estimators=10, random_state=0)</pre><b>In a Jupyter environment, please rerun this cell to show the HTML representation or trust the notebook. <br />On GitHub, the HTML representation is unable to render, please try loading this page with nbviewer.org.</b></div><div class=\"sk-container\" hidden><div class=\"sk-item\"><div class=\"sk-estimator sk-toggleable\"><input class=\"sk-toggleable__control sk-hidden--visually\" id=\"sk-estimator-id-1\" type=\"checkbox\" checked><label for=\"sk-estimator-id-1\" class=\"sk-toggleable__label sk-toggleable__label-arrow\">RandomForestRegressor</label><div class=\"sk-toggleable__content\"><pre>RandomForestRegressor(max_depth=6, n_estimators=10, random_state=0)</pre></div></div></div></div></div>"
      ],
      "text/plain": [
       "RandomForestRegressor(max_depth=6, n_estimators=10, random_state=0)"
      ]
     },
     "execution_count": 6,
     "metadata": {},
     "output_type": "execute_result"
    }
   ],
   "source": [
    "#Build the model with Random Forest Regressor :\n",
    "from sklearn.ensemble import RandomForestRegressor\n",
    "import pickle\n",
    "model = RandomForestRegressor(max_depth=6, random_state=0, n_estimators=10)\n",
    "model.fit(X_train, y_train)"
   ]
  },
  {
   "cell_type": "code",
   "execution_count": 7,
   "id": "99beecd5",
   "metadata": {},
   "outputs": [],
   "source": [
    "# # save the model to disk\n",
    "# filename = 'finalized_model.sav'\n",
    "# pickle.dump(model, open(filename, 'wb'))"
   ]
  },
  {
   "cell_type": "code",
   "execution_count": 8,
   "id": "b50a63ec",
   "metadata": {},
   "outputs": [
    {
     "name": "stdout",
     "output_type": "stream",
     "text": [
      "0.5115736735646944\n"
     ]
    }
   ],
   "source": [
    "# load the model from disk\n",
    "filename = 'finalized_model.sav'\n",
    "model = pickle.load(open(filename, 'rb'))\n",
    "result = model.score(X_test, y_test)\n",
    "print(result)"
   ]
  },
  {
   "cell_type": "code",
   "execution_count": 9,
   "id": "591801cb",
   "metadata": {},
   "outputs": [],
   "source": [
    "y_pred = model.predict(X_test)"
   ]
  },
  {
   "cell_type": "code",
   "execution_count": null,
   "id": "eb32d170",
   "metadata": {},
   "outputs": [],
   "source": []
  },
  {
   "cell_type": "code",
   "execution_count": 10,
   "id": "b79e1fb6",
   "metadata": {},
   "outputs": [
    {
     "data": {
      "text/plain": [
       "2611.446860508777"
      ]
     },
     "execution_count": 10,
     "metadata": {},
     "output_type": "execute_result"
    }
   ],
   "source": [
    "from sklearn.metrics import mean_squared_error\n",
    "mse = mean_squared_error(y_test, y_pred)**(0.5)\n",
    "mse"
   ]
  },
  {
   "cell_type": "code",
   "execution_count": 11,
   "id": "fcbb1e18",
   "metadata": {},
   "outputs": [
    {
     "name": "stdout",
     "output_type": "stream",
     "text": [
      "Random Forest MSError 6819654.705261147\n"
     ]
    }
   ],
   "source": [
    "print('Random Forest MSError', np.mean((model.predict(X_test) - y_test) ** 2))"
   ]
  },
  {
   "cell_type": "code",
   "execution_count": 12,
   "id": "4ae4f39d",
   "metadata": {},
   "outputs": [
    {
     "data": {
      "text/plain": [
       "0.5115736735646944"
      ]
     },
     "execution_count": 12,
     "metadata": {},
     "output_type": "execute_result"
    }
   ],
   "source": [
    "#from sklearn.metrics import r2_score\n",
    "model.score(X_test, y_test)"
   ]
  },
  {
   "cell_type": "code",
   "execution_count": 13,
   "id": "aeaa4804",
   "metadata": {},
   "outputs": [
    {
     "name": "stdout",
     "output_type": "stream",
     "text": [
      "MSError when predicting the mean 14029159.57149537\n"
     ]
    }
   ],
   "source": [
    "print('MSError when predicting the mean', np.mean((y_train.mean() - y_test) ** 2))"
   ]
  },
  {
   "cell_type": "code",
   "execution_count": 14,
   "id": "20b54927",
   "metadata": {},
   "outputs": [
    {
     "name": "stdout",
     "output_type": "stream",
     "text": [
      "[ 1.602000e-01  1.952000e+01 -9.883000e+01  9.000000e+00  6.000000e+00\n",
      "  1.000000e+00  0.000000e+00  1.000000e+00  4.012000e+02  6.890000e+02\n",
      " -2.878000e+02  1.398571e+01  2.452044e+01  2.949670e+00  2.000000e+00]\n",
      "[3429.11196001]\n"
     ]
    },
    {
     "name": "stderr",
     "output_type": "stream",
     "text": [
      "C:\\Users\\Masrufa\\AppData\\Local\\Programs\\Python\\Python39\\lib\\site-packages\\sklearn\\base.py:420: UserWarning: X does not have valid feature names, but RandomForestRegressor was fitted with feature names\n",
      "  warnings.warn(\n"
     ]
    }
   ],
   "source": [
    "from mlsocket import MLSocket\n",
    "import socket\n",
    "import numpy as np\n",
    "HOST = socket.gethostname()\n",
    "PORT = 65432\n",
    "data1 = np.array([1, 2, 3, 4])\n",
    "with MLSocket() as s:\n",
    "    s.bind((HOST, PORT))\n",
    "    s.listen()\n",
    "    conn, address = s.accept()\n",
    "\n",
    "    with conn:\n",
    "        received_data = conn.recv(1024) # This will block until it receives all the data send by the client, with the step size of 1024 bytes.\n",
    "        #model = conn.recv(1024) # This will also block until it receives all the data.\n",
    "        #clf = conn.recv(1024) # Same\n",
    "        print(received_data)\n",
    "        received_data=received_data.reshape(1,-1)\n",
    "        y_pred = model.predict(received_data)\n",
    "        print(y_pred)\n",
    "        conn.send(y_pred)\n",
    "        #conn.send(\"y_pred\")"
   ]
  },
  {
   "cell_type": "code",
   "execution_count": null,
   "id": "a1c09133",
   "metadata": {},
   "outputs": [],
   "source": []
  }
 ],
 "metadata": {
  "kernelspec": {
   "display_name": "Python 3 (ipykernel)",
   "language": "python",
   "name": "python3"
  },
  "language_info": {
   "codemirror_mode": {
    "name": "ipython",
    "version": 3
   },
   "file_extension": ".py",
   "mimetype": "text/x-python",
   "name": "python",
   "nbconvert_exporter": "python",
   "pygments_lexer": "ipython3",
   "version": "3.9.13"
  }
 },
 "nbformat": 4,
 "nbformat_minor": 5
}
